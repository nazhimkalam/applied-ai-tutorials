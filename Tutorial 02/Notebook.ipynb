{
 "cells": [
  {
   "cell_type": "markdown",
   "id": "85e53d16",
   "metadata": {},
   "source": [
    "### # Importing the required libraries"
   ]
  },
  {
   "cell_type": "code",
   "execution_count": 7,
   "id": "a85461f5",
   "metadata": {},
   "outputs": [],
   "source": [
    "import re\n",
    "import operator"
   ]
  },
  {
   "cell_type": "markdown",
   "id": "6f980348",
   "metadata": {},
   "source": [
    "### Defining the function to read the file"
   ]
  },
  {
   "cell_type": "code",
   "execution_count": 8,
   "id": "3a3e463c",
   "metadata": {},
   "outputs": [],
   "source": [
    "def read_file():\n",
    "    with open('data.txt', 'r') as f:\n",
    "        data = f.read().replace('\\n', '')\n",
    "        return data"
   ]
  },
  {
   "cell_type": "markdown",
   "id": "33ef19fb",
   "metadata": {},
   "source": [
    "### Defining the function to clean the text"
   ]
  },
  {
   "cell_type": "code",
   "execution_count": 9,
   "id": "f234d611",
   "metadata": {},
   "outputs": [],
   "source": [
    "def clean_text(text):\n",
    "    text = text.lower()\n",
    "    text = re.sub(r'[^a-zA-Z0-9\\s]', '', text)\n",
    "    return text"
   ]
  },
  {
   "cell_type": "markdown",
   "id": "ada7f388",
   "metadata": {},
   "source": [
    "### Defining the function to count the words"
   ]
  },
  {
   "cell_type": "code",
   "execution_count": 10,
   "id": "0b405f6d",
   "metadata": {},
   "outputs": [],
   "source": [
    "def count_words(text):\n",
    "    word_list = text.split()\n",
    "    word_count = {}\n",
    "    for word in word_list:\n",
    "        if word in word_count:\n",
    "            word_count[word] += 1\n",
    "        else:\n",
    "            word_count[word] = 1\n",
    "    return word_count"
   ]
  },
  {
   "cell_type": "markdown",
   "id": "561e16a7",
   "metadata": {},
   "source": [
    "### Defining the function to sort the words"
   ]
  },
  {
   "cell_type": "code",
   "execution_count": 11,
   "id": "7ad51d48",
   "metadata": {},
   "outputs": [],
   "source": [
    "def sort_words(word_count):\n",
    "    sorted_words = sorted(word_count.items(), key=operator.itemgetter(1), reverse=True)\n",
    "    return sorted_words"
   ]
  },
  {
   "cell_type": "markdown",
   "id": "84be14b7",
   "metadata": {},
   "source": [
    "### Defining the function to print the words"
   ]
  },
  {
   "cell_type": "code",
   "execution_count": 12,
   "id": "537ca606",
   "metadata": {},
   "outputs": [],
   "source": [
    "def print_words(sorted_words):\n",
    "    for word in sorted_words:\n",
    "        print(word[0], word[1])"
   ]
  },
  {
   "cell_type": "markdown",
   "id": "c1479a90",
   "metadata": {},
   "source": [
    "### Main Program\n"
   ]
  },
  {
   "cell_type": "code",
   "execution_count": 13,
   "id": "f358c462",
   "metadata": {},
   "outputs": [
    {
     "name": "stdout",
     "output_type": "stream",
     "text": [
      "the 4\n",
      "rain 2\n",
      "fell 2\n",
      "on 2\n",
      "car 1\n",
      "ground 1\n"
     ]
    }
   ],
   "source": [
    "text = read_file()\n",
    "clean_text = clean_text(text)\n",
    "word_count = count_words(clean_text)\n",
    "sorted_words = sort_words(word_count)\n",
    "print_words(sorted_words)"
   ]
  },
  {
   "cell_type": "code",
   "execution_count": null,
   "id": "137b9a8a",
   "metadata": {},
   "outputs": [],
   "source": []
  }
 ],
 "metadata": {
  "kernelspec": {
   "display_name": "Python 3 (ipykernel)",
   "language": "python",
   "name": "python3"
  },
  "language_info": {
   "codemirror_mode": {
    "name": "ipython",
    "version": 3
   },
   "file_extension": ".py",
   "mimetype": "text/x-python",
   "name": "python",
   "nbconvert_exporter": "python",
   "pygments_lexer": "ipython3",
   "version": "3.7.0"
  }
 },
 "nbformat": 4,
 "nbformat_minor": 5
}
